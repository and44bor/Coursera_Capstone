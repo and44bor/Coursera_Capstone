{
 "cells": [
  {
   "cell_type": "markdown",
   "metadata": {},
   "source": [
    "\n",
    "<h1 align=\"center\">  Restaurant and Coffee House Chains in TORONTO </h1>\n",
    "\n",
    "<h4 align=\"center\"> Author: Andrei Borodich </h4>\n",
    "\n",
    "<h4 align=\"center\"> Date: 12-MAR-2020 </h4>\n",
    "\n",
    "<h4 align=\"center\">  </h4>\n",
    "\n"
   ]
  },
  {
   "cell_type": "code",
   "execution_count": null,
   "metadata": {},
   "outputs": [],
   "source": []
  },
  {
   "cell_type": "markdown",
   "metadata": {},
   "source": [
    "\n",
    "## Introduction: Business Problem <a name=\"introduction\"></a>"
   ]
  },
  {
   "cell_type": "markdown",
   "metadata": {},
   "source": [
    "In this project we explore the West End and East End of the *City of Toronto* in order to find attractive locations to open a few food venues that are members of different franchises though running by the same management company. \n",
    "Specifically, this report will cover business planning issues pertinent to the fast-food chain companies. \n",
    "The management companies like the **Restaurant Brands International Inc. (RBI)** show their  interest to this type of research analytics. Because it provides a scientific, grounded on data, approach to estimate attractive locations for their particular brand. \n",
    "\n",
    "The case description may look as it follows. \n",
    "The RBI which is a Canadian multinational fast-food holding company, owns  American fast-food restaurant chain  *Burger King* and Canadian coffee shop chain *Tim Hortons*. Relaying on marketing data, the management promotes opening a few franchisees in the \"Low Venue Density\" neighborhoods of Toronto that are predominantly located in the two boroughs, *Scarborough* (East End) and *Etobicoke* (West End) of the city.   \n",
    "The task is to locate particular neighborhoods having the high affinity to the fast-food venues. Then, identify those that are more suitable for opening a new *fast-food restaurant (Burger King)* and other for  opening a new *coffee shop (Tim Hortons)*. \n",
    "\n",
    "We use the Foursquare location data to create datasets of neighborhood popular venues. We explore a given borough and segment it with the pandas dataframe utilities and methods. The k-Means  Clustering  Method is run on the neighborhood--venue data and groups the neighborhoods based on similarity of their venue features. \n",
    "Then we use the Foursquare location data to create other datasets that include only targeted venue categories, as **fast-food restaurants (FFRs)** and **coffee shops (CSs)**, in operation. \n",
    "The frequency distribution in neighborhoods is calculated for each category. \n",
    "Results of analysis of two groups are merged, the franchise ratio is calculated in two ways, based on popularity and based on operation, and used to propose a list of particular locations suitable to open either a new FFR or CS.\n"
   ]
  },
  {
   "cell_type": "code",
   "execution_count": null,
   "metadata": {},
   "outputs": [],
   "source": []
  },
  {
   "cell_type": "markdown",
   "metadata": {},
   "source": [
    "\n",
    "## Data <a name=\"data\"></a>"
   ]
  },
  {
   "cell_type": "markdown",
   "metadata": {},
   "source": [
    "We begin with creating a representative dataset with the Toronto neighborhood geospatial data. \n",
    "The City of Toronto is divided into 6 districts (boroughs). \n",
    "They are Old Toronto (Downtown, Midtown and Islands), York, East York, North York, Scarborough and Etobicoke. \n",
    "\n",
    "Initially, we prepared 2 dataframes with the boroughs' and neighborhoods' features. \n",
    "One dataset contains the names of neighborhoods combined under the same postal codes. \n",
    "It was obtained by making calls to the reliable web-site and fetching the html-table from the Toronto web-page into a pandas dataframe.\n",
    "Other dataset contains the geographical coordinates of combined neighborhoods. \n",
    "It was obtained by retrieving  CanadaPost's geocoded data from the postal codes.\n",
    "\n",
    "With the 2 available datasets, \n",
    "we create a combined dataframe of the Toronto neighborhoods including features as name, borough label, latitude, longitude and postal code affiliation. \n",
    "From that dataframe we make the two reduced ones for two boroughs, *Scarborough* and *Etobicoke*. Those dataframes, `scarbo_data` and `etobi_data`, are output below.\n"
   ]
  },
  {
   "cell_type": "markdown",
   "metadata": {},
   "source": [
    "<img src=\"dataset-image-01.png\" align=\"center\">"
   ]
  },
  {
   "cell_type": "markdown",
   "metadata": {},
   "source": [
    "There are **17 combined neighborhoods** in the **Scarborough** borough. "
   ]
  },
  {
   "cell_type": "markdown",
   "metadata": {},
   "source": [
    "There are **11 combined neighborhoods** in the **Etobicoke** borough. "
   ]
  },
  {
   "cell_type": "code",
   "execution_count": null,
   "metadata": {},
   "outputs": [],
   "source": []
  },
  {
   "cell_type": "markdown",
   "metadata": {},
   "source": [
    "Then, we proceed with creating datasets of the **neighborhood most popular venues**, one for Scarborough and other for Etobicoke.\n",
    "We explore neighborhoods in a given borough utilizing the `Foursquare` API. By making calls we get the top popular venues, with the limit of 100,  in all categories, within a radius of 1250 meters around every neighborhood. As we empirically determined it is an optimal radius for a bigger circular coverage but fewer venue overlap in case of the \"low venue density\" neighborhoods of Toronto. \n",
    "We collect results and extracts the venue features from the json-structure. \n",
    "We check the venues counted more than once, because of searching circle overlap, retain the proper venue IDs and discard their duplicates. \n",
    "Hence, we create two datasets of neighborhood venues for the two boroughs, Scarborough and Etobicoke. \n",
    "Those dataframes, `scarbo_venues ` and `etobi_venues `, are output below. \n",
    "We visualize the venue locations on the borough's maps. \n"
   ]
  },
  {
   "cell_type": "markdown",
   "metadata": {},
   "source": [
    "<img src=\"dataset-image-02a.png\" align=\"center\">\n",
    "<img src=\"dataset-image-02b.png\" align=\"center\">"
   ]
  },
  {
   "cell_type": "markdown",
   "metadata": {},
   "source": [
    "There are **527 popular venues** collected in **Scarborough**. \n"
   ]
  },
  {
   "cell_type": "markdown",
   "metadata": {},
   "source": [
    "There are **363 popular venues** collected in the **Etobicoke**. \n"
   ]
  },
  {
   "cell_type": "code",
   "execution_count": null,
   "metadata": {},
   "outputs": [],
   "source": []
  },
  {
   "cell_type": "markdown",
   "metadata": {},
   "source": [
    "Then, we proceed with creating datasets of the **neighborhood targeted category venues**, as FFR and CS, in  Scarborough and Etobicoke.\n",
    "Again, we utilize the `Foursquare` API. We get only FFRs and CSs, each category having the limit of 100,  within a radius of 1250 meters around every neighborhood. \n",
    "After extracting venue features from the json-structure and discarding the venue duplicates  we create two datasets for Scarborough, `df_FFRs `  &  `df_CSs `,  and two datasets for Etobicoke, `df_FFRe `  &  `df_CSe `. We visualize the venue locations on the borough's maps. "
   ]
  },
  {
   "cell_type": "markdown",
   "metadata": {},
   "source": [
    "<img src=\"dataset-image-03a.png\" align=\"center\">\n",
    "<img src=\"dataset-image-03b.png\" align=\"center\">"
   ]
  },
  {
   "cell_type": "markdown",
   "metadata": {},
   "source": [
    "There are **61 fast-food restaurants** and **46 coffee shops** collected in **Scarborough**.\n"
   ]
  },
  {
   "cell_type": "markdown",
   "metadata": {},
   "source": [
    "There are **21 fast-food restaurants** and **38 coffee shops** collected in **Etobicoke**. "
   ]
  },
  {
   "cell_type": "code",
   "execution_count": null,
   "metadata": {},
   "outputs": [],
   "source": []
  },
  {
   "cell_type": "markdown",
   "metadata": {},
   "source": [
    "## Methodology  <a name=\"methodology\"></a>"
   ]
  },
  {
   "cell_type": "markdown",
   "metadata": {},
   "source": [
    "### All Venue Categories &mdash; Cluster Analysis\n",
    "\n",
    "We aim to identify the similar neighborhoods, based on similarity of their venue features.\n",
    "In other words, we are going to apply  some clustering method to our two neighborhood--venue datasets, Scarborough and Etobicoke.\n",
    "Clustering algorithms are unsupervised process (learning) to group unlabeled data, based on the similarity of their features.\n",
    "**The k-Means clustering** algorithm is one of them being the well-documented and implemented in most machine-learning libraries.\n",
    "\n",
    "The k-Means clustering algorithm comes in several different implementations depending on the computational designs.\n",
    "We made our preference toward the **Mini-Batch k-Means** method.\n",
    "The main idea behind this algorithm is to use small random batches of data of a fixed size, so they can be stored in memory.\n",
    "Each iteration a new random batch from the dataset is obtained and used to update the clusters and this is repeated until convergence.\n",
    "Every data object in the batch is assigned to one of the clusters, depending on the previous locations of the cluster centroids.\n",
    "Updating the locations of cluster centroids is based on the new data object from the batch.\n",
    "The update is a gradient descent update, which is significantly faster than a regular batch k-Means update.\n",
    "\n",
    "We can evaluate the quality of our clusters using the evaluation metrics. \n",
    "The two of them have been called in this study. \n",
    "The **Cluster Inertia** is defined as the sum of distances of all the points within a cluster from the centroid of that cluster. \n",
    "Hence, *the lesser the inertia value, the better (more compact) our clusters*. \n",
    "The **Davies-Bouldin score** is defined as the average ratio of intra-cluster distances to inter-cluster distances.\n",
    "Hence, *clusters which are farther apart and less dispersed will result in a better score*.\n"
   ]
  },
  {
   "cell_type": "markdown",
   "metadata": {},
   "source": [
    "### Targeted Venue Categories &mdash; Frequency Distribution\n",
    "\n",
    "We aim to quantify the distributions of targeted venue categories. \n",
    "Frequency distributions are mostly used for summarizing categorical variables.\n",
    "A **frequency distribution** is a variable description by a pair of corresponding sets, one is all distinct values in the variable and other is their occurrence numbers (frequencies).\n",
    "The common way to visualize a frequency distribution is making either a bar plot (showing frequencies for distinct values) or\n",
    "a histogram (showing frequencies for intervals of values).\n"
   ]
  },
  {
   "cell_type": "code",
   "execution_count": null,
   "metadata": {},
   "outputs": [],
   "source": []
  },
  {
   "cell_type": "markdown",
   "metadata": {},
   "source": [
    "## Results <a name=\"results\"></a>"
   ]
  },
  {
   "cell_type": "markdown",
   "metadata": {},
   "source": [
    "### All Venue Categories"
   ]
  },
  {
   "cell_type": "markdown",
   "metadata": {},
   "source": [
    "We run  `MiniBatchKMeans` application from the Python machine-learning library `scikit-learn`. The number of clusters for each borough dataset has been selected using the \"elbow method\" and\n",
    "its optimal value of 6 clusters has been confirmed in further calculations for both *Scarborough* and *Etobicoke*.\n",
    "\n",
    "First, the K-Means model segmented the **Scarborough** neighborhoods into \n",
    "a 9 member cluster, a 4 member cluster and four sole clusters. \n",
    "The dataset representing *527 venues* that belong to *132 different venue categories* \n",
    "has been fitted to the model.\n",
    "\n",
    "Second, the K-Means model clustered the **Etobicoke** neighborhoods into \n",
    "a 5 member cluster, a 2 member cluster and four sole clusters. \n",
    "The dataset representing *363 venues* that belong to *110 different venue categories* \n",
    "has been fitted to the model.\n",
    "\n",
    "The clustering model of the *Scarborough* data is quantified by the numbers of \n",
    "*Inertia_score = 1346* and *Davies_Bouldin_score = 0.67*. \n",
    "As for modeling the *Etobicoke*  data, the calculated scores are\n",
    "*Inertia_score = 544* and  *Davies_Bouldin_score = 1.08*. \n",
    "In general, these values of evaluation metrics justify that the obtained clusters are meaningful and robust.\n",
    "This is applied to both boroughs.\n"
   ]
  },
  {
   "cell_type": "markdown",
   "metadata": {},
   "source": [
    "The **Scarborough** clustered neighborhoods are shown in the map (6 clusters). Further, we examine the clusters using the top 10 venue categories in each neighborhood. "
   ]
  },
  {
   "cell_type": "markdown",
   "metadata": {},
   "source": [
    "<img src=\"scarbo_clusters.JPG\" align=\"center\">"
   ]
  },
  {
   "cell_type": "markdown",
   "metadata": {},
   "source": [
    "\n",
    "**Cluster #0, red** (9 members:  2,4,6,8,9,10,12,14,15)   \n",
    "This cluster attracts people mostly by its recreational venues as Parks, Scatting Rings, Marina that dominate in popularity.\n",
    "Here, food venues are mostly represented by Ice Cream Shops and Coffee Shops, in the lesser extent, Pizza Places and some Ethnic Restaurants.\n",
    "Only a few FFRs can be found in this cluster and their popularity is low.    \n",
    "\n",
    "**Cluster #1, indigo**   \n",
    "In fact, this cluster comprises the borough center, with lots of coffee shops and different type of restaurants. \n",
    "CSs are rather popular. \n",
    "FFRs have average popularity.\n",
    "\n",
    "**Cluster #2, blue**  (4 members:  3,5,11,16)   \n",
    "CSs and FFRs are popular in this cluster.\n",
    "Chinese Restaurants are less attractive.\n",
    "\n",
    "**Cluster #3, cyan**   \n",
    "Chinese Restaurants and Bubble Tea Shops held the high popularity.\n",
    "Both FFRs and CSs don't attract many people in this area.\n",
    "\n",
    "**Cluster #4, green**   \n",
    "Recreational venues, Zoo and Trails, are popular.\n",
    "FFRs are well represented and popular.\n",
    "\n",
    "**Cluster #5, orange**   \n",
    "Chinese Restaurants lead in popularity.\n",
    "Interesting, that neither CSs nor FFRs come to the top 10 popular venues in this area.\n",
    "\n",
    "\n",
    "Thus, based on the overall content of the top 10 lists included in the clusters, <br> we can summarize that \n",
    "**clusters #2 and #1** seem to have the high affinity, in Scarborough, towards both CSs and FFRs. \n",
    "Then, the recreational **clusters #0** demonstrates \"the upper middle\" affinity. \n"
   ]
  },
  {
   "cell_type": "markdown",
   "metadata": {},
   "source": [
    "The **Etobicoke** clustered neighborhoods are shown in the map below. Further, we examine the clusters using the top 10 venue categories in each neighborhood. "
   ]
  },
  {
   "cell_type": "markdown",
   "metadata": {},
   "source": [
    "<img src=\"etobi_clusters.JPG\" align=\"center\">"
   ]
  },
  {
   "cell_type": "markdown",
   "metadata": {},
   "source": [
    "\n",
    "**Cluster #0, red**   \n",
    "CS and Pizza Place are the most popular venues here.\n",
    "\n",
    "**Cluster #1, indigo**    \n",
    "CS and Hotel are the most popular venues here.\n",
    "\n",
    "**Cluster #2, blue**  (2 members:  2,6)   \n",
    "Odd venues, Convenience Store and Pharmacy, are the most popular venues here. \n",
    "In this cluster, CS and FFR have average popularity and compete with Cafe and Pizza Place. \n",
    "\n",
    "**Cluster #3, cyan**   \n",
    "Restaurant (general category) and Coffee Shop are the most popular venues here.\n",
    "\n",
    "**Cluster #4, green**    \n",
    "Pizza Place and Grocery Store are the most popular venues here.\n",
    "\n",
    "**Cluster #5, orange**  (5 members:  1,3,4,5,9)    \n",
    "In fact, this cluster comprises  the borough center.\n",
    "Here, food venues and recreational places make a balance.\n",
    "Mostly the pair as CS & Park lead the popularity list.\n",
    "FFRs and Pizza Places are popular as well.\n",
    "\n",
    "\n",
    "Thus, based on the overall content of the top 10 lists included in the clusters, <br> we can summarize that \n",
    "**clusters #2 and #5** seem to have the high affinity, in Etobicoke, towards both CSs and FFRs.\n"
   ]
  },
  {
   "cell_type": "markdown",
   "metadata": {},
   "source": [
    "### Targeted Venue Categories"
   ]
  },
  {
   "cell_type": "markdown",
   "metadata": {},
   "source": [
    "We calculate frequency distributions of FFR and CS, in Scarborough and Etobicoke, using the corresponding datasets that include only targeted venue categories. \n",
    "Two borough distributions are visualized with the bar charts placed below. Each pair of bars corresponds to the particular neighborhood. Number of pairs of bars equals to the number of neighborhoods. \n"
   ]
  },
  {
   "cell_type": "markdown",
   "metadata": {},
   "source": [
    "\n",
    "<img src=\"frequency-dist-scarbo.png\" width=\"680\" align=\"center\">\n",
    "\n",
    "<div style=\"text-align: center\"> The 17 neighborhoods are labeled as N0, N1, ..., N16. </div>\n"
   ]
  },
  {
   "cell_type": "markdown",
   "metadata": {},
   "source": [
    "Looking at the Scarborough bar graph we find two neighborhoods, *N10 and N13*, \n",
    "with the highest number of running CSs & FFRs. \n",
    "In both places, active FFRs prevail over CSs in number. "
   ]
  },
  {
   "cell_type": "markdown",
   "metadata": {},
   "source": [
    "\n",
    "<img src=\"frequency-dist-etobi.png\" width=\"680\" align=\"center\">\n",
    "\n",
    "<div style=\"text-align: center\"> The 11 neighborhoods are labeled as N0, N1, ..., N10. </div>\n"
   ]
  },
  {
   "cell_type": "markdown",
   "metadata": {},
   "source": [
    "Looking at the Etobicoke bar graph we find two neighborhoods, *N1 and N4*, \n",
    "with the highest number of running CSs & FFRs. \n",
    "In both places, contrary to the Scarborough case, amount of operating CSs exceeds FFRs. "
   ]
  },
  {
   "cell_type": "code",
   "execution_count": null,
   "metadata": {},
   "outputs": [],
   "source": []
  },
  {
   "cell_type": "markdown",
   "metadata": {},
   "source": [
    "## Discussion <a name=\"discussion\"></a>"
   ]
  },
  {
   "cell_type": "markdown",
   "metadata": {},
   "source": [
    "It is important to underline that the FFR and CS counts in the targeted venue datasets \n",
    "essentially exceed those in the popular venue datasets, while all data have been collected with `Foursquare` using the same calling procedure.\n",
    "The counts of FFRs and CSs in two boroughs are placed in Tables below, together with the calculated CS/FFR ratios. \n",
    "The bigger part of the CSs in operation are well-rated and popular. That is not the case of the FFRs. Only a fraction of the FFRs in operation take their places in the popular venue list. "
   ]
  },
  {
   "cell_type": "markdown",
   "metadata": {},
   "source": [
    "<h4 align=\"center\">Franchise Ratio, Scarborough.</h4>\n",
    "\n",
    "| popular <br> venue categories | popular <br> FFRs | popular <br> CSs | the FFR <br> venues | the CS <br> venues |\n",
    "|  ---| ---:| ---:| ---:| ---:| \n",
    "| 132 | 22  |  33 |  61 |  46 |\n",
    "|     | popular <br> CS/FFR ratio <br> = 1.50 | | operational <br> CS/FFR ratio <br> = 0.75 | | \n"
   ]
  },
  {
   "cell_type": "markdown",
   "metadata": {},
   "source": [
    "<h4 align=\"center\">Franchise Ratio, Etobicoke.</h4>\n",
    "\n",
    "| popular <br> venue categories | popular <br> FFRs | popular <br> CSs |  the FFR <br> venues |  the CS <br> venues |\n",
    "|  ---| ---:| ---:| ---:| ---:| \n",
    "| 110 | 4   |  27 |  21 |  38 |\n",
    "|     | popular <br> CS/FFR ratio <br> = 6.75 | | operational <br> CS/FFR ratio <br> = 1.81 | |\n"
   ]
  },
  {
   "cell_type": "markdown",
   "metadata": {},
   "source": [
    "\n",
    "From the *Scarborough* table, we conclude that \n",
    "the CS/FFR ratio based on popularity is 1.50 and its remarkably bigger than\n",
    "the CS/FFR ratio based on operation, which is 0.75.\n",
    "\n",
    "From the *Etobicoke* table, we conclude that \n",
    "the CS/FFR ratio based on popularity is 6.75 and its remarkably bigger than\n",
    "the CS/FFR ratio based on operation, which is 1.81. \n"
   ]
  },
  {
   "cell_type": "markdown",
   "metadata": {},
   "source": [
    "Having the results of the cluster analysis \n",
    "we can identify the locations suitable for opening new FFRs and CSs. \n",
    "\n",
    "In **Scarborough**, in the 9-member `cluster#0` \n",
    "the *operational CS/FFR ratio* has its minimal value for N10 and maximal for N12.\n",
    "Then, in the 4-member `cluster#2` \n",
    "the minimal and maximal operational franchise ratio values are for N5 and N3 respectively. <br>\n",
    "Hence, taking into account the neigborhood similarity, the recommended the following locations to open new franchisees: \n",
    "- *N10* and *N5* to run a Coffee shop, \n",
    "- *N12* and *N3* to run a Fast Food Restaurant.\n",
    "\n",
    "In **Etobicoke**, in the 5-member `cluster#5` \n",
    "the *operational CS/FFR ratio* has its minimal value for N4 and maximal for N5.\n",
    "Then, in the 2-member `cluster#2` \n",
    "the minimal and maximal franchise ratio values are for N6 and N2 respectively. <br>\n",
    "Hence, taking into account the neigborhood similarity, the recommended the following locations to open new franchisees: \n",
    "- *N4* and *N6* to run a Coffee shop,  \n",
    "- *N5* and *N2* to run a Fast Food Restaurant.\n"
   ]
  },
  {
   "cell_type": "code",
   "execution_count": null,
   "metadata": {},
   "outputs": [],
   "source": []
  },
  {
   "cell_type": "markdown",
   "metadata": {},
   "source": [
    "## Conclusion <a name=\"conclusion\"></a>"
   ]
  },
  {
   "cell_type": "markdown",
   "metadata": {},
   "source": [
    "\n",
    "\n",
    "(1) \n",
    "The Coffee Shop is the most popular venue category in Scarborough and Etobicoke. \n",
    "Majority of neighborhoods in both boroughs show a high affinity to the Coffee Shops.\n",
    "\n",
    "(2)\n",
    "The Fast Food Restaurant is a venue category having an average rating in popularity in Scarborough and Etobicoke.\n",
    "One of the main differences between the food venues in two Toronto districts is that \n",
    "in Scarborough FFRs compete mostly with the Chinese restaurants \n",
    "while in Etobicoke FFRs compete mostly with the Pizza Places.\n",
    "\n",
    "(3)\n",
    "Based on the cluster analysis data and using the operational franchise ratio, <br>\n",
    "the recommended locations to open new CSs in **Scarborough** are \n",
    "*Highland Creek & Rouge Hill & Port Union* (N10) and \n",
    "*Clarks Corners & Sullivan & Tam O'Shanter* (N5), \n",
    "while \n",
    "*Maryvale & Wexford* (N12) and \n",
    "*Rouge & Malvern* (N3) \n",
    "are the potential locations to run new FFRs. \n",
    "\n",
    "(4) \n",
    "Based on the cluster analysis data and using the operational franchise ratio, <br>\n",
    "the recommended locations to open new CSs in **Etobicoke** are \n",
    "*Humber Bay Shores & Mimico South & New Toronto* (N4) and \n",
    "*Kingsview Village & Martin Grove Gardens & Richview Gardens & St. Phillips* (N6), \n",
    "while \n",
    "*Humber Bay & King's Mill Park & Kingsway Park South East* (N5) and \n",
    "*Bloordale Gardens & Eringate & Markland Wood & Old Burnhamthorpe* (N2) \n",
    "are the potential locations to run new FFRs.\n"
   ]
  },
  {
   "cell_type": "code",
   "execution_count": null,
   "metadata": {},
   "outputs": [],
   "source": []
  },
  {
   "cell_type": "markdown",
   "metadata": {},
   "source": [
    "## References <a name=\"references\"></a>"
   ]
  },
  {
   "cell_type": "markdown",
   "metadata": {},
   "source": [
    "\n",
    "[1] <a href=\"https://www.toronto.ca/city-government/data-research-maps/neighbourhoods-communities/neighbourhood-profiles/\">City of Toronto &mdash; Neighbourhood Profiles</a>\n",
    "\n",
    "\n",
    "[2] <a href=\"http://geocoder.ca/\">Geocode USA and Canada</a>\n",
    "\n",
    "\n",
    "[3] <a href=\"https://enterprise.foursquare.com/products/places\">Places Data by Foursquare</a>\n",
    "\n",
    "\n",
    "[4] <a href=\"https://scikit-learn.org/stable/modules/generated/sklearn.cluster.KMeans.html\">k-means algorithm</a>\n",
    "\n"
   ]
  },
  {
   "cell_type": "code",
   "execution_count": null,
   "metadata": {},
   "outputs": [],
   "source": []
  }
 ],
 "metadata": {
  "kernelspec": {
   "display_name": "Python 2",
   "language": "python",
   "name": "python2"
  },
  "language_info": {
   "codemirror_mode": {
    "name": "ipython",
    "version": 2
   },
   "file_extension": ".py",
   "mimetype": "text/x-python",
   "name": "python",
   "nbconvert_exporter": "python",
   "pygments_lexer": "ipython2",
   "version": "2.7.15"
  }
 },
 "nbformat": 4,
 "nbformat_minor": 4
}
